{
 "cells": [
  {
   "cell_type": "markdown",
   "metadata": {},
   "source": [
    "### Task 1.1"
   ]
  },
  {
   "cell_type": "code",
   "execution_count": null,
   "metadata": {},
   "outputs": [],
   "source": [
    "import pdb\n",
    "import numpy as np\n",
    "from sklearn.preprocessing import StandardScaler\n",
    "\n",
    "def preprocess_data(data):\n",
    "    scaler = StandardScaler()\n",
    "    pdb.set_trace() \n",
    "    scaled_data = scaler.fit_transform(data)\n",
    "    normalized_data = scaled_data / np.linalg.norm(scaled_data)\n",
    "    return normalized_data\n",
    "\n",
    "# Example Data\n",
    "data = np.array([[1, 2, 3], [4, 5, np.nan], [7, 8, 9]])\n",
    "processed_data = preprocess_data(data)\n",
    "print(\"Processed Data:\\n\", processed_data)\n"
   ]
  },
  {
   "cell_type": "markdown",
   "metadata": {},
   "source": [
    "### Task 1.2"
   ]
  },
  {
   "cell_type": "code",
   "execution_count": null,
   "metadata": {},
   "outputs": [],
   "source": [
    "import numpy as np\n",
    "from sklearn.preprocessing import StandardScaler\n",
    "import pdb\n",
    "\n",
    "def preprocess_data(data):\n",
    "    col_mean = np.nanmean(data, axis=0)\n",
    "    inds = np.where(np.isnan(data))\n",
    "    data[inds] = np.take(col_mean, inds[1])\n",
    "    \n",
    "    scaler = StandardScaler()\n",
    "    pdb.set_trace()  \n",
    "    scaled_data = scaler.fit_transform(data)\n",
    "    normalized_data = scaled_data / np.linalg.norm(scaled_data)\n",
    "    return normalized_data\n",
    "\n",
    "data = np.array([[1, 2, 3], [4, 5, np.nan], [7, 8, 9]])\n",
    "processed_data = preprocess_data(data)\n",
    "print(\"Processed Data:\\n\", processed_data)\n"
   ]
  },
  {
   "cell_type": "markdown",
   "metadata": {},
   "source": [
    "### Task 2.1"
   ]
  },
  {
   "cell_type": "code",
   "execution_count": null,
   "metadata": {},
   "outputs": [],
   "source": [
    "from sklearn.linear_model import LinearRegression\n",
    "import numpy as np\n",
    "import pdb\n",
    "\n",
    "def train_model(X, y):\n",
    "    model = LinearRegression()\n",
    "    pdb.set_trace()  \n",
    "    model.fit(X, y)\n",
    "    return model\n",
    "\n",
    "X = np.array([[1], [2], [3], [4]])\n",
    "y = np.array([1, 4, 9, 16, 25])  \n",
    "trained_model = train_model(X, y)\n",
    "print(\"Trained Model Coefficients:\", trained_model.coef_)\n"
   ]
  },
  {
   "cell_type": "markdown",
   "metadata": {},
   "source": [
    "### Task 2.2 2.3 and 2.4"
   ]
  },
  {
   "cell_type": "code",
   "execution_count": null,
   "metadata": {},
   "outputs": [],
   "source": [
    "from sklearn.linear_model import LinearRegression\n",
    "import numpy as np\n",
    "import pdb\n",
    "\n",
    "def train_model(X, y):\n",
    "    model = LinearRegression()\n",
    "    pdb.set_trace()\n",
    "    y = y[:X.shape[0]]  \n",
    "    y = y.reshape(-1, 1)  \n",
    "    model.fit(X, y)\n",
    "    return model\n",
    "\n",
    "X = np.array([[1], [2], [3], [4]])\n",
    "y = np.array([1, 4, 9, 16, 25])  \n",
    "trained_model = train_model(X, y)\n",
    "print(\"Trained Model Coefficients:\", trained_model.coef_)\n"
   ]
  },
  {
   "cell_type": "markdown",
   "metadata": {},
   "source": [
    "### Task 3.1\n"
   ]
  },
  {
   "cell_type": "code",
   "execution_count": null,
   "metadata": {},
   "outputs": [],
   "source": [
    "from sklearn.metrics import mean_squared_error\n",
    "import numpy as np\n",
    "import pdb\n",
    "\n",
    "def evaluate_model(model, X_test, y_test):\n",
    "    predictions = model.predict(X_test)\n",
    "    pdb.set_trace()  \n",
    "    mse = mean_squared_error(y_test, predictions)\n",
    "    return mse\n",
    "\n",
    "X_test = np.array([[5], [6], [7], [8]])\n",
    "y_test = np.array([25, 36, 49, 64])\n",
    "\n",
    "mse_score = evaluate_model(trained_model, X_test, y_test)\n",
    "print(\"Mean Squared Error:\", mse_score)\n"
   ]
  },
  {
   "cell_type": "markdown",
   "metadata": {},
   "source": [
    "### Task 3.2"
   ]
  },
  {
   "cell_type": "code",
   "execution_count": null,
   "metadata": {},
   "outputs": [],
   "source": [
    "from sklearn.linear_model import LinearRegression\n",
    "import numpy as np\n",
    "import pdb\n",
    "from sklearn.preprocessing import PolynomialFeatures\n",
    "from sklearn.metrics import mean_squared_error\n",
    "\n",
    "def train_model(X, y, degree=2):\n",
    "    poly = PolynomialFeatures(degree)\n",
    "    X_poly = poly.fit_transform(X)  \n",
    "    model = LinearRegression()\n",
    "    model.fit(X_poly, y)\n",
    "    return model, poly \n",
    "\n",
    "def evaluate_model(model, poly, X_test, y_test):\n",
    "    X_test_poly = poly.transform(X_test)  \n",
    "    predictions = model.predict(X_test_poly)\n",
    "    mse = mean_squared_error(y_test, predictions)\n",
    "    return mse\n",
    "\n",
    "X_train = np.array([[1], [2], [3], [4]])\n",
    "y_train = np.array([1, 4, 9, 16])\n",
    "\n",
    "trained_model, poly = train_model(X_train, y_train)\n",
    "\n",
    "X_test = np.array([[5], [6], [7], [8]])\n",
    "y_test = np.array([25, 36, 49, 64])\n",
    "\n",
    "mse_score = evaluate_model(trained_model, poly, X_test, y_test)\n",
    "print(\"Mean Squared Error:\", mse_score)\n"
   ]
  },
  {
   "cell_type": "code",
   "execution_count": null,
   "metadata": {},
   "outputs": [],
   "source": []
  }
 ],
 "metadata": {
  "kernelspec": {
   "display_name": "base",
   "language": "python",
   "name": "python3"
  },
  "language_info": {
   "codemirror_mode": {
    "name": "ipython",
    "version": 3
   },
   "file_extension": ".py",
   "mimetype": "text/x-python",
   "name": "python",
   "nbconvert_exporter": "python",
   "pygments_lexer": "ipython3",
   "version": "3.12.2"
  }
 },
 "nbformat": 4,
 "nbformat_minor": 2
}
