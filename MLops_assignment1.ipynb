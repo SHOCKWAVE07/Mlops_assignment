{
  "cells": [
    {
      "cell_type": "markdown",
      "metadata": {
        "id": "LlIGlcIiywyq"
      },
      "source": [
        "## MLOps Assignment 1"
      ]
    },
    {
      "cell_type": "markdown",
      "metadata": {
        "id": "i3GplYoCqa89"
      },
      "source": [
        "Q1. Print multiplication table from 1 to 10"
      ]
    },
    {
      "cell_type": "code",
      "execution_count": 4,
      "metadata": {
        "id": "Vfm5RBY0qbIs"
      },
      "outputs": [
        {
          "name": "stdout",
          "output_type": "stream",
          "text": [
            "1 * 1 = 1\n",
            "1 * 2 = 2\n",
            "1 * 3 = 3\n",
            "1 * 4 = 4\n",
            "1 * 5 = 5\n",
            "1 * 6 = 6\n",
            "1 * 7 = 7\n",
            "1 * 8 = 8\n",
            "1 * 9 = 9\n",
            "1 * 10 = 10\n",
            "\n",
            "2 * 1 = 2\n",
            "2 * 2 = 4\n",
            "2 * 3 = 6\n",
            "2 * 4 = 8\n",
            "2 * 5 = 10\n",
            "2 * 6 = 12\n",
            "2 * 7 = 14\n",
            "2 * 8 = 16\n",
            "2 * 9 = 18\n",
            "2 * 10 = 20\n",
            "\n",
            "3 * 1 = 3\n",
            "3 * 2 = 6\n",
            "3 * 3 = 9\n",
            "3 * 4 = 12\n",
            "3 * 5 = 15\n",
            "3 * 6 = 18\n",
            "3 * 7 = 21\n",
            "3 * 8 = 24\n",
            "3 * 9 = 27\n",
            "3 * 10 = 30\n",
            "\n",
            "4 * 1 = 4\n",
            "4 * 2 = 8\n",
            "4 * 3 = 12\n",
            "4 * 4 = 16\n",
            "4 * 5 = 20\n",
            "4 * 6 = 24\n",
            "4 * 7 = 28\n",
            "4 * 8 = 32\n",
            "4 * 9 = 36\n",
            "4 * 10 = 40\n",
            "\n",
            "5 * 1 = 5\n",
            "5 * 2 = 10\n",
            "5 * 3 = 15\n",
            "5 * 4 = 20\n",
            "5 * 5 = 25\n",
            "5 * 6 = 30\n",
            "5 * 7 = 35\n",
            "5 * 8 = 40\n",
            "5 * 9 = 45\n",
            "5 * 10 = 50\n",
            "\n",
            "6 * 1 = 6\n",
            "6 * 2 = 12\n",
            "6 * 3 = 18\n",
            "6 * 4 = 24\n",
            "6 * 5 = 30\n",
            "6 * 6 = 36\n",
            "6 * 7 = 42\n",
            "6 * 8 = 48\n",
            "6 * 9 = 54\n",
            "6 * 10 = 60\n",
            "\n",
            "7 * 1 = 7\n",
            "7 * 2 = 14\n",
            "7 * 3 = 21\n",
            "7 * 4 = 28\n",
            "7 * 5 = 35\n",
            "7 * 6 = 42\n",
            "7 * 7 = 49\n",
            "7 * 8 = 56\n",
            "7 * 9 = 63\n",
            "7 * 10 = 70\n",
            "\n",
            "8 * 1 = 8\n",
            "8 * 2 = 16\n",
            "8 * 3 = 24\n",
            "8 * 4 = 32\n",
            "8 * 5 = 40\n",
            "8 * 6 = 48\n",
            "8 * 7 = 56\n",
            "8 * 8 = 64\n",
            "8 * 9 = 72\n",
            "8 * 10 = 80\n",
            "\n",
            "9 * 1 = 9\n",
            "9 * 2 = 18\n",
            "9 * 3 = 27\n",
            "9 * 4 = 36\n",
            "9 * 5 = 45\n",
            "9 * 6 = 54\n",
            "9 * 7 = 63\n",
            "9 * 8 = 72\n",
            "9 * 9 = 81\n",
            "9 * 10 = 90\n",
            "\n",
            "10 * 1 = 10\n",
            "10 * 2 = 20\n",
            "10 * 3 = 30\n",
            "10 * 4 = 40\n",
            "10 * 5 = 50\n",
            "10 * 6 = 60\n",
            "10 * 7 = 70\n",
            "10 * 8 = 80\n",
            "10 * 9 = 90\n",
            "10 * 10 = 100\n",
            "\n"
          ]
        }
      ],
      "source": [
        "#write here and run the cell\n",
        "\n",
        "for i in range(1,11):\n",
        "    temp = []\n",
        "    for j in range(1,11):\n",
        "        print(f\"{i} * {j} = {i*j}\")\n",
        "    print()"
      ]
    },
    {
      "cell_type": "markdown",
      "metadata": {
        "id": "kCxjfhGtiMFb"
      },
      "source": [
        "Q2. Given two lists, l1 and l2, write a program to create a third list l3 by picking an odd-index element from the list l1 and even index elements from the list l2."
      ]
    },
    {
      "cell_type": "code",
      "execution_count": 6,
      "metadata": {
        "id": "r1lkQPN8iNSc"
      },
      "outputs": [
        {
          "name": "stdout",
          "output_type": "stream",
          "text": [
            "[2, 3, 6]\n"
          ]
        }
      ],
      "source": [
        "#write here and run the cell\n",
        "\n",
        "l1 = list(map(int,input(\"Enter the l1 elements\").split()))\n",
        "l2 = list(map(int,input(\"Enter the l2 elements\").split()))\n",
        "\n",
        "l3 = []\n",
        "\n",
        "for i in range(len(l1)):\n",
        "    if i%2!=0:\n",
        "        l3.append(l1[i])\n",
        "    else:\n",
        "        l3.append(l2[i])\n",
        "\n",
        "print(l3)\n",
        "\n"
      ]
    },
    {
      "cell_type": "markdown",
      "metadata": {
        "id": "GBb0FgtIq4YA"
      },
      "source": [
        "Q3. Print a this pattern(*)\n",
        "\n",
        "    * * * * * * * *\n",
        "      * * * * * * *\n",
        "        * * * * * *\n",
        "          * * * * *\n",
        "            * * * *\n",
        "              * * *\n",
        "                * *\n",
        "                  *"
      ]
    },
    {
      "cell_type": "code",
      "execution_count": 22,
      "metadata": {
        "id": "rfbGzuA3rcGs"
      },
      "outputs": [
        {
          "name": "stdout",
          "output_type": "stream",
          "text": [
            " ********\n",
            "  *******\n",
            "   ******\n",
            "    *****\n",
            "     ****\n",
            "      ***\n",
            "       **\n",
            "        *\n"
          ]
        }
      ],
      "source": [
        "#write here and run the cell\n",
        "\n",
        "n = int(input(\"Enter the number of starts in 0th row \"))\n",
        "\n",
        "for i in range(n):\n",
        "    for j in range(i+1):\n",
        "        print(\" \",end=\"\")\n",
        "    for k in range(j,n):\n",
        "        print(\"*\",end=\"\")\n",
        "    print()\n",
        "\n",
        "\n"
      ]
    },
    {
      "cell_type": "markdown",
      "metadata": {
        "id": "WIblh-z6s9me"
      },
      "source": [
        "Q4. Create a function named `exponent(base, exp)` that returns an integer representing the result of raising `base` to the power of `exp`.\n",
        "`exp` is >0.\n",
        "\n",
        "base = 5\n",
        "exponent = 4\n",
        "\n",
        "5 raises to the power of 4 is: 625\n",
        "i.e. (5 *5 * 5 *5 = 625)"
      ]
    },
    {
      "cell_type": "code",
      "execution_count": 2,
      "metadata": {
        "id": "6-KKDQNWs8eQ"
      },
      "outputs": [
        {
          "name": "stdout",
          "output_type": "stream",
          "text": [
            "5 raises to the power of 4 is: 625\n"
          ]
        }
      ],
      "source": [
        "#write here and run the cell\n",
        "def exponents(base,exp):\n",
        "    ans = 1\n",
        "    for i in range(0,exp):\n",
        "        ans*=base\n",
        "    return ans\n",
        "\n",
        "base=5\n",
        "exponent=4\n",
        "print(f\"{base} raises to the power of {exponent} is: {exponents(5,4)}\")\n"
      ]
    },
    {
      "cell_type": "markdown",
      "metadata": {
        "id": "_QUrD8h6t6PN"
      },
      "source": [
        "Q5. Create a file named test.txt and insert the following content into it.\n",
        "\n",
        "    line1\n",
        "    line2\n",
        "    line3\n",
        "    line4\n",
        "    line5\n",
        "    line6\n",
        "    line7\n",
        "\n",
        "Write a program which write all content of a given file (test.txt) into a new file by skipping line number 5 (line5)"
      ]
    },
    {
      "cell_type": "code",
      "execution_count": 33,
      "metadata": {
        "id": "I2KF1QHKrq-s"
      },
      "outputs": [
        {
          "name": "stdout",
          "output_type": "stream",
          "text": [
            "line1\n",
            "line2\n",
            "line3\n",
            "line4\n",
            "line6\n",
            "line7"
          ]
        }
      ],
      "source": [
        "#write here and run the cell\n",
        "\n",
        "file = open('test.txt','r')\n",
        "\n",
        "for i,j in enumerate(file):\n",
        "    if i==4:\n",
        "        continue\n",
        "    else:\n",
        "        print(j,end=\"\")"
      ]
    },
    {
      "cell_type": "markdown",
      "metadata": {
        "id": "6cdAt0ONvMVI"
      },
      "source": [
        "Q6. Write a program which receives three names from the user in a single input() function call.\n",
        "\n",
        "    Input: IIT JODHPUR RAJASTHAN\n",
        "\n",
        "    Output:\n",
        "    IIT\n",
        "    JODHPUR\n",
        "    RAJASTHAN"
      ]
    },
    {
      "cell_type": "code",
      "execution_count": 34,
      "metadata": {
        "id": "Mo0wyeB6vJJm"
      },
      "outputs": [
        {
          "name": "stdout",
          "output_type": "stream",
          "text": [
            "IIT\n",
            "JODHPUR\n",
            "RAJASTHAN\n"
          ]
        }
      ],
      "source": [
        "#write here and run the cell\n",
        "\n",
        "n = input(\"Enter the input \")\n",
        "\n",
        "string = n.split(\" \")\n",
        "\n",
        "for i in string:\n",
        "    print(i)"
      ]
    },
    {
      "cell_type": "markdown",
      "metadata": {
        "id": "jwSKpPcYv_De"
      },
      "source": [
        "Q7. Write a program to define a function called show_employee() with the following requirements:\n",
        "\n",
        "*   It should take the employee's name and salary as input and display both.\n",
        "*   If the salary is not provided in the function call, assign a default value of 9000 to it.\n",
        "\n",
        "After passing:\n",
        "\n",
        "showEmployee(\"Bill Gates\", 12000)\n",
        "\n",
        "showEmployee(\"Elon Musk\")\n",
        "\n",
        "It should print:\n",
        "\n",
        "Name: Bill Gates salary: 12000\n",
        "\n",
        "Name: Elon Musk salary: 9000"
      ]
    },
    {
      "cell_type": "code",
      "execution_count": 40,
      "metadata": {
        "id": "yyzhkF1Lv94j"
      },
      "outputs": [
        {
          "name": "stdout",
          "output_type": "stream",
          "text": [
            "Name Bill Gates salary: 12000\n",
            "Name Elon Musk salary: 9000\n"
          ]
        }
      ],
      "source": [
        "#write here and run the cell\n",
        "\n",
        "def showEmployee(name,salary=9000): \n",
        "    print(f\"Name {name} salary: {salary}\")\n",
        "\n",
        "\n",
        "showEmployee(\"Bill Gates\", 12000)\n",
        "showEmployee(\"Elon Musk\")"
      ]
    },
    {
      "cell_type": "markdown",
      "metadata": {
        "id": "BAtCQH3pxXWV"
      },
      "source": [
        "Q8. Write a program to identify words that contain both letters and digits from a given input string.\n",
        "\n",
        "    Given str1 = \"Harry25 is Gryffindor Wizard50 and cursed\"\n",
        "\n",
        "    Output:\n",
        "    Harry25\n",
        "    Wizard50"
      ]
    },
    {
      "cell_type": "code",
      "execution_count": 47,
      "metadata": {
        "id": "bqbyxYdqvJHY"
      },
      "outputs": [
        {
          "name": "stdout",
          "output_type": "stream",
          "text": [
            "Harry25\n",
            "Wizard50\n"
          ]
        }
      ],
      "source": [
        "#write here and run the cell\n",
        "\n",
        "str1 = \"Harry25 is Gryffindor Wizard50 and cursed\"\n",
        "lst = str1.split()\n",
        "\n",
        "\n",
        "for word in lst:\n",
        "    int_flag = False\n",
        "    for i in word:\n",
        "        if i.isdigit():\n",
        "            int_flag=True\n",
        "    if int_flag:\n",
        "        print(word)\n",
        "\n"
      ]
    },
    {
      "cell_type": "markdown",
      "metadata": {
        "id": "Ev6TIw7oyGzJ"
      },
      "source": [
        "Q9. Write a program to substitute each special character in the given string with the symbol #.\n",
        "\n",
        "    Given: str1 = '/*Modi is @Politician & Melony!!'\n",
        "\n",
        "    Output: ##Modi is #Politician # Melony##"
      ]
    },
    {
      "cell_type": "code",
      "execution_count": 45,
      "metadata": {
        "id": "Hbg92hJtvJE7"
      },
      "outputs": [
        {
          "name": "stdout",
          "output_type": "stream",
          "text": [
            "##Modi is #Politician # Melony##\n"
          ]
        }
      ],
      "source": [
        "#write here and run the cell\n",
        "\n",
        "str1 = '/*Modi is @Politician & Melony!!'\n",
        "ans = ''\n",
        "for i in str1:\n",
        "    if (ord('a')<=ord(i)<=ord('z')) or (ord('A')<=ord(i)<=ord('Z')) or i==' ':\n",
        "        ans+=i\n",
        "    else:\n",
        "        ans+='#'\n",
        "print(ans)"
      ]
    },
    {
      "cell_type": "markdown",
      "metadata": {
        "id": "L9zg8k_XyoMz"
      },
      "source": [
        "Q10. Construct a Python set that displays elements from both lists as pairs.\n",
        "\n",
        "    Given:\n",
        "\n",
        "    first_list = [2, 3, 4, 5, 6, 7, 8]\n",
        "    second_list = [4, 9, 16, 25, 36, 49, 64]\n",
        "    Output: Result is  {(6, 36), (8, 64), (4, 16), (5, 25), (3, 9), (7, 49), (2, 4)}"
      ]
    },
    {
      "cell_type": "code",
      "execution_count": 41,
      "metadata": {
        "id": "aSBw6V0OvJCS"
      },
      "outputs": [
        {
          "name": "stdout",
          "output_type": "stream",
          "text": [
            "{(7, 49), (2, 4), (4, 16), (8, 64), (6, 36), (3, 9), (5, 25)}\n"
          ]
        }
      ],
      "source": [
        "#write here and run the cell\n",
        "\n",
        "first_list = [2,3,4,5,6,7,8]\n",
        "second_list = [4,9,16,25,36,49,64]\n",
        "\n",
        "ans = set()\n",
        "\n",
        "for i in range(len(first_list)):\n",
        "    ans.add((first_list[i],second_list[i]))\n",
        "\n",
        "print(ans)\n",
        "\n"
      ]
    },
    {
      "cell_type": "markdown",
      "metadata": {
        "id": "JHa0SMOozZo9"
      },
      "source": [
        "Q11. Define two set A and B consisting of 5 elements. Now print the element after performing\n",
        "\n",
        "\n",
        "      1.   A-B\n",
        "      2.   B-A\n",
        "      3.   A∩B\n",
        "      4.   A∪B\n",
        "\n",
        "\n"
      ]
    },
    {
      "cell_type": "code",
      "execution_count": 49,
      "metadata": {
        "id": "r9vL1bpHzZGg"
      },
      "outputs": [
        {
          "name": "stdout",
          "output_type": "stream",
          "text": [
            "{1}\n",
            "{2}\n",
            "{3, 5}\n",
            "{1, 2, 3, 5}\n"
          ]
        }
      ],
      "source": [
        "#write here and run the cell\n",
        "\n",
        "A = {1,3,5}\n",
        "B = {2,3,5}\n",
        "\n",
        "print(A-B)\n",
        "print(B-A)\n",
        "print(A & B)\n",
        "print(A | B)"
      ]
    },
    {
      "cell_type": "markdown",
      "metadata": {
        "id": "UFjTtL_i00dz"
      },
      "source": [
        "## Object Oriented Programming Exercise 1:\n",
        "\n",
        "[Classes and Objects in Python](https://pynative.com/python-classes-and-objects/)\n",
        "\n",
        "[Instance variables in Python](https://pynative.com/python-instance-variables/)"
      ]
    },
    {
      "cell_type": "markdown",
      "metadata": {
        "id": "-PQELvq41z5B"
      },
      "source": [
        "Q12. Create a Vehicle class with max_speed and mileage instance attributes."
      ]
    },
    {
      "cell_type": "code",
      "execution_count": 50,
      "metadata": {
        "id": "Wa16l5-C0z3Z"
      },
      "outputs": [],
      "source": [
        "#write here and run the cell\n",
        "\n",
        "class Vehicle:\n",
        "\n",
        "    def __init__(self,max_speed,mileage):\n",
        "        self.max_speed = max_speed\n",
        "        self.mileage = mileage\n",
        "\n",
        "    "
      ]
    },
    {
      "cell_type": "markdown",
      "metadata": {
        "id": "-Japqg35177L"
      },
      "source": [
        "Q13. Create a child class Bus that will inherit all of the variables and methods of the Vehicle class.\n",
        "\n",
        "Create a Bus object that will inherit all of the variables and methods of the parent Vehicle class and display it."
      ]
    },
    {
      "cell_type": "code",
      "execution_count": 51,
      "metadata": {
        "id": "nUvpX3qR2Upg"
      },
      "outputs": [
        {
          "name": "stdout",
          "output_type": "stream",
          "text": [
            "Max Speed: 120\n",
            "Mileage: 500\n"
          ]
        }
      ],
      "source": [
        "#write here and run the cell\n",
        "\n",
        "class Bus(Vehicle):\n",
        "    pass\n",
        "\n",
        "bus = Bus(120,500)\n",
        "\n",
        "print(f\"Max Speed: {bus.max_speed}\")\n",
        "print(f\"Mileage: {bus.mileage}\")\n"
      ]
    },
    {
      "cell_type": "markdown",
      "metadata": {
        "id": "fPFfg2Hh2VBe"
      },
      "source": [
        "### Class Inheritance\n",
        "\n",
        "Q14. Create a Bus class that inherits from the Vehicle class. Give the capacity argument of Bus.seating_capacity() a default value of 50.\n",
        "\n",
        "Use the following code for your parent Vehicle class.\n",
        "\n",
        "    class Vehicle:\n",
        "      def __init__(self, name, max_speed, mileage):\n",
        "          self.name = name\n",
        "          self.max_speed = max_speed\n",
        "          self.mileage = mileage\n",
        "\n",
        "      def seating_capacity(self, capacity):\n",
        "          return f\"The seating capacity of a {self.name} is {capacity} passengers\"\n",
        "\n",
        "Expected Output:\n",
        "\n",
        "    The seating capacity of a bus is 50 passengers"
      ]
    },
    {
      "cell_type": "code",
      "execution_count": 14,
      "metadata": {
        "id": "TKalMy1B2_Ix"
      },
      "outputs": [
        {
          "name": "stdout",
          "output_type": "stream",
          "text": [
            "The seating capacity of a bus is 50 passengers\n"
          ]
        }
      ],
      "source": [
        "#write here and run the cell\n",
        "\n",
        "class Vehicle:\n",
        "    def __init__(self, name, max_speed, mileage):\n",
        "        self.name=name\n",
        "        self.max_speed = max_speed\n",
        "        self.mileage = mileage\n",
        "\n",
        "    def seating_capacity(self,capacity):\n",
        "        return f\"The seating capacity of a {self.name} is {capacity} passengers\"\n",
        "    \n",
        "\n",
        "class Bus(Vehicle):\n",
        "    \n",
        "    def seating_capacity(self, capacity=50):\n",
        "        return super().seating_capacity(capacity)\n",
        "\n",
        "b1 = Bus(\"bus\",80,70)\n",
        "seating_cap = b1.seating_capacity()\n",
        "print(seating_cap)"
      ]
    },
    {
      "cell_type": "markdown",
      "metadata": {
        "id": "kenJ766m2_jc"
      },
      "source": [
        "Q15. Create a Bus subclass that inherits from the Vehicle class. By default, the fare for any vehicle is calculated as the seating capacity multiplied by 100. For instances of the Bus class, an additional 10% maintenance fee should be applied to the total fare. Therefore, the final fare for a bus instance will be the sum of the total fare plus an additional 10% of that total fare.\n",
        "\n",
        "Note: The bus has a seating capacity of 50, so the final fare amount should be 5500. You need to override the fare() method from the Vehicle class in the Bus class.\n",
        "\n",
        "Use the provided code for the parent Vehicle class. You should access the parent class within a method of the child class.\n",
        "\n",
        "    class Vehicle:\n",
        "      def __init__(self, name, mileage, capacity):\n",
        "        self.name = name\n",
        "        self.mileage = mileage\n",
        "        self.capacity = capacity\n",
        "\n",
        "      def fare(self):\n",
        "        return self.capacity * 100\n",
        "\n",
        "    class Bus(Vehicle):\n",
        "        pass\n",
        "        School_bus = Bus(\"School Volvo\", 12, 50)\n",
        "        print(\"Total Bus fare is:\", School_bus.fare())\n",
        "\n",
        "    Expected Output:\n",
        "\n",
        "    Total Bus fare is: 5500.0"
      ]
    },
    {
      "cell_type": "code",
      "execution_count": 20,
      "metadata": {
        "id": "jY3Z5SsY_iaQ"
      },
      "outputs": [
        {
          "name": "stdout",
          "output_type": "stream",
          "text": [
            "Total Bus fare is: 5500.0\n"
          ]
        }
      ],
      "source": [
        "#write here and run the cell\n",
        "class Vehicle:\n",
        "    def __init__(self,name,mileage,capacity):\n",
        "        self.name=name\n",
        "        self.mileage =mileage\n",
        "        self.capacity=capacity\n",
        "\n",
        "    def fare(self):\n",
        "        return self.capacity*100\n",
        "    \n",
        "class Bus(Vehicle):\n",
        "    \n",
        "    def fare(self):\n",
        "        bus_fare = super().fare()\n",
        "        total_fare = bus_fare + bus_fare*0.1\n",
        "        return total_fare\n",
        "\n",
        "School_bus = Bus(\"School Volvo\", 12 ,50)\n",
        "print(\"Total Bus fare is:\",School_bus.fare())"
      ]
    },
    {
      "cell_type": "markdown",
      "metadata": {
        "id": "3wMvLEkk_nWE"
      },
      "source": [
        "### Python JSON Exercise\n",
        "Refer: [Python JSON tutorials](https://pynative.com/python/json/)"
      ]
    },
    {
      "cell_type": "markdown",
      "metadata": {
        "id": "zVIiuI0PAcuT"
      },
      "source": [
        "Q16. Convert the following dictionary into JSON format\n",
        "\n",
        "    data = {\"key1\" : \"value1\", \"key2\" : \"value2\"}\n",
        "    data = {\"key1\" : \"value1\", \"key2\" : \"value2\"}"
      ]
    },
    {
      "cell_type": "code",
      "execution_count": 11,
      "metadata": {
        "id": "Z5M47OYS_mhA"
      },
      "outputs": [
        {
          "name": "stdout",
          "output_type": "stream",
          "text": [
            "{\"key1\": \"value1\", \"key2\": \"value2\"}\n"
          ]
        }
      ],
      "source": [
        "#write here and run the cell\n",
        "data = {\"key1\": \"value1\", \"key2\":\"value2\"}\n",
        "import json\n",
        "json_data = json.dumps(data)\n",
        "\n",
        "print(json_data)"
      ]
    },
    {
      "cell_type": "markdown",
      "metadata": {
        "id": "8eE35QccA_X-"
      },
      "source": [
        "Q17. Sort JSON keys in and write them into a file\n",
        "\n",
        "    sampleJson = {\"id\" : 1, \"name\" : \"value2\", \"age\" : 29}\n",
        "\n",
        "    {\n",
        "          \"age\": 29,\n",
        "          \"id\": 1,\n",
        "          \"name\": \"value2\"\n",
        "    }"
      ]
    },
    {
      "cell_type": "code",
      "execution_count": 10,
      "metadata": {
        "id": "jLG5tk_X_j5O"
      },
      "outputs": [
        {
          "name": "stdout",
          "output_type": "stream",
          "text": [
            "{\n",
            "    \"age\": 29,\n",
            "    \"id\": 1,\n",
            "    \"name\": \"value2\"\n",
            "}\n"
          ]
        }
      ],
      "source": [
        "\n",
        "data = {\"id\": 1, \"name\": \"value2\", \"age\": 29}\n",
        "\n",
        "with open(\"data.json\", \"w\") as json_file:\n",
        "    json.dump(data, json_file)\n",
        "\n",
        "with open(\"data.json\", \"r\") as json_file:\n",
        "    data = json.load(json_file)  \n",
        "    json_data = json.dumps(data, indent=4, sort_keys=True)  \n",
        "    print(json_data)"
      ]
    },
    {
      "cell_type": "code",
      "execution_count": null,
      "metadata": {},
      "outputs": [],
      "source": []
    }
  ],
  "metadata": {
    "colab": {
      "provenance": []
    },
    "kernelspec": {
      "display_name": "Python 3",
      "name": "python3"
    },
    "language_info": {
      "codemirror_mode": {
        "name": "ipython",
        "version": 3
      },
      "file_extension": ".py",
      "mimetype": "text/x-python",
      "name": "python",
      "nbconvert_exporter": "python",
      "pygments_lexer": "ipython3",
      "version": "3.10.12"
    }
  },
  "nbformat": 4,
  "nbformat_minor": 0
}
